{
 "cells": [
  {
   "cell_type": "markdown",
   "metadata": {},
   "source": [
    "1. Importe o módulo \"time\"\n",
    "1. Imprima na tela \"Olá, mundo!\"\n",
    "1. Insira a função \"time.sleep\" e passe como argumento 2\n",
    "1. Imprima na tela \"Agora sou uma pessoa programadora Python.\" e \"Aguarde 4.5 segundos\"\n",
    "1. Insira a função \"time.sleep\" e passe como argumento 4.5\n",
    "1. Imprima na tela \"Última linha do programa.\""
   ]
  },
  {
   "cell_type": "code",
   "execution_count": 4,
   "metadata": {},
   "outputs": [
    {
     "name": "stdout",
     "output_type": "stream",
     "text": [
      "Olá, mundo!\n",
      "Agora sou uma pessoa programadora Python. Aguarde 4.5 segundos\n",
      "Última linha do programa.\n"
     ]
    }
   ],
   "source": [
    "import time\n",
    "\n",
    "print('Olá, mundo!')\n",
    "\n",
    "time.sleep(2)\n",
    "\n",
    "print('Agora sou uma pessoa programadora Python.', 'Aguarde 4.5 segundos')\n",
    "\n",
    "time.sleep(4.5)\n",
    "\n",
    "print('Última linha do programa.')"
   ]
  }
 ],
 "metadata": {
  "kernelspec": {
   "display_name": ".venv",
   "language": "python",
   "name": "python3"
  },
  "language_info": {
   "codemirror_mode": {
    "name": "ipython",
    "version": 3
   },
   "file_extension": ".py",
   "mimetype": "text/x-python",
   "name": "python",
   "nbconvert_exporter": "python",
   "pygments_lexer": "ipython3",
   "version": "3.10.12"
  },
  "orig_nbformat": 4
 },
 "nbformat": 4,
 "nbformat_minor": 2
}
